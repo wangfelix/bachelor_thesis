{
 "cells": [
  {
   "metadata": {},
   "cell_type": "markdown",
   "source": [
    "# Preprocessing\n",
    "This notebook merges the feature files and the otree files from all sessions into a single labeled feature matrix.\n",
    "The top 20% best performing participants are labeled as 1, the rest as 0, forming a binary classification problem."
   ],
   "id": "8a77807f92f26ee"
  },
  {
   "metadata": {},
   "cell_type": "code",
   "source": [
    "import os\n",
    "import re\n",
    "import pandas as pd\n",
    "pd.set_option('display.max_columns', None)  # Display all columns\n",
    "pd.set_option('display.expand_frame_repr', False)  # Prevent wrapping"
   ],
   "id": "fbc121e30a2defb3",
   "outputs": [],
   "execution_count": null
  },
  {
   "metadata": {},
   "cell_type": "markdown",
   "source": "## Merging Files From All Sessions",
   "id": "d9b283042b243f7f"
  },
  {
   "metadata": {},
   "cell_type": "code",
   "source": [
    "root_dir = \"../data/raw\"\n",
    "feature_file_output_name = \"../data/raw/merged_features.csv\"\n",
    "otree_file_output_name = \"../data/raw/merged_otree.csv\"\n",
    "\n",
    "# List to store DataFrames\n",
    "feature_df_list = []\n",
    "otree_df_list = []\n",
    "\n",
    "countDatasets = 0\n",
    "countOtree = 0\n",
    "\n",
    "for folder in os.listdir(root_dir):\n",
    "    folder_path = os.path.join(root_dir, folder)\n",
    "    \n",
    "    if os.path.isdir(folder_path):\n",
    "        \n",
    "        feature_csv_files = [f for f in os.listdir(folder_path) if re.match(r'feature_dataset_normalized_.*\\.csv', f)]\n",
    "        otree_csv_files = [f for f in os.listdir(folder_path) if re.match(r'all_apps_wide-.*\\.csv', f)]\n",
    "        \n",
    "        if feature_csv_files:\n",
    "            countDatasets += 1\n",
    "            file_path = os.path.join(folder_path, feature_csv_files[0]) \n",
    "            feature_df = pd.read_csv(file_path)\n",
    "            feature_df_list.append(feature_df)\n",
    "            \n",
    "        if otree_csv_files:\n",
    "            countOtree += 1\n",
    "            file_path = os.path.join(folder_path, otree_csv_files[0]) \n",
    "            otree_df = pd.read_csv(file_path)\n",
    "            otree_df_list.append(otree_df)\n",
    "\n",
    "# Concatenate all DataFrames into one\n",
    "if feature_df_list:\n",
    "    merged_df = pd.concat(feature_df_list, ignore_index=True)\n",
    "    merged_df.to_csv(feature_file_output_name, index=False)\n",
    "    print(f\"Merged CSV saved as {feature_file_output_name}\")\n",
    "    print(merged_df.shape)\n",
    "    \n",
    "if otree_df_list:\n",
    "    merged_otree_df = pd.concat(otree_df_list, ignore_index=True)\n",
    "    merged_otree_df.to_csv(otree_file_output_name, index=False)\n",
    "    print(f\"Merged CSV saved as {otree_file_output_name}\")\n",
    "    print(merged_otree_df.shape)\n",
    "    \n",
    "print(f\"Found {countDatasets} datasets.\")\n",
    "print(f\"Found {countOtree} otree files.\")"
   ],
   "id": "1684874074382e4f",
   "outputs": [],
   "execution_count": null
  },
  {
   "metadata": {},
   "cell_type": "markdown",
   "source": "## Read the Merged Files into DataFrames and extract the relevant columns",
   "id": "897741f68e627301"
  },
  {
   "metadata": {},
   "cell_type": "code",
   "source": [
    "feature_file_path = \"../data/raw/merged_features.csv\"\n",
    "otree_file_path = \"../data/raw/merged_otree.csv\"\n",
    "\n",
    "# Read feature file into pd Dataframe.\n",
    "biosignal_feature_df = pd.read_csv(\n",
    "    feature_file_path,\n",
    "    sep=',',\n",
    "    header=0,\n",
    ")\n",
    "\n",
    "# Read experiment data into pd Dataframe.\n",
    "otree_df = pd.read_csv(\n",
    "   otree_file_path,\n",
    "    sep=',',\n",
    "    header=0,\n",
    "     usecols=['participant.code', 'session.code', 'stockmarket.40.player.final_payout'],\n",
    ")\n",
    "\n",
    "print(otree_df.head(15))"
   ],
   "id": "d214f0e63c53c7e2",
   "outputs": [],
   "execution_count": null
  },
  {
   "metadata": {},
   "cell_type": "markdown",
   "source": [
    "## Biosignal Feature File Preparation\n",
    "1. Drop columns that are entirely empty\n",
    "2. Fill any remaining empty fields with 0"
   ],
   "id": "2b1928ef0050154f"
  },
  {
   "metadata": {},
   "cell_type": "code",
   "source": [
    "# Drop columns that are entirely empty\n",
    "biosignal_feature_df.dropna(axis=1, how='all', inplace=True)\n",
    "\n",
    "# Fill any remaining empty fields with 0\n",
    "biosignal_feature_df.fillna(0, inplace=True)"
   ],
   "id": "390c8f2440f27ba6",
   "outputs": [],
   "execution_count": null
  },
  {
   "metadata": {},
   "cell_type": "markdown",
   "source": [
    "## OTree File Preparation: Encoding class labels\n",
    "The top 20% besst perfroming participants are labeled as 1, the rest as 0."
   ],
   "id": "544062c5aab9ea46"
  },
  {
   "metadata": {},
   "cell_type": "code",
   "source": [
    "otree_df[\"performance_class\"] = (\n",
    "    otree_df.groupby(\"session.code\")[\"stockmarket.40.player.final_payout\"]\n",
    "    .transform(lambda x: (x >= x.quantile(0.80)).astype(int))\n",
    ")\n",
    "\n",
    "print(otree_df.head(15))"
   ],
   "id": "dc5811f5381e3d75",
   "outputs": [],
   "execution_count": null
  },
  {
   "metadata": {},
   "cell_type": "markdown",
   "source": [
    "## Creating Labeled Feature Matrix\n",
    "1. Merge the DataFrames\n",
    "2. Drop the Baseline Windows, as they have no discriminatory power on trading performance, since no decision making is involved.\n",
    "3. Drop the columns that are not needed for the feature matrix."
   ],
   "id": "690b43d75ee48068"
  },
  {
   "metadata": {},
   "cell_type": "code",
   "source": [
    "# Merge the DataFrames and drop the Baseline Windows.\n",
    "merged_df = pd.merge(biosignal_feature_df, otree_df, left_on='Participant_Code', right_on='participant.code')\n",
    "\n",
    "columns_to_drop = ['session.code', 'Window_ID', 'Window_Start', 'Window_End', 'Window_Start_readable', 'Window_End_readable', 'Participant_Code', 'Segment_Type', 'stockmarket.40.player.final_payout', 'participant.code']\n",
    "\n",
    "# Drop the columns that are not needed for the feature matrix.\n",
    "columns_to_drop = [col for col in columns_to_drop if col in merged_df.columns]\n",
    "labeled_feature_matrix_df = merged_df.drop(columns=columns_to_drop)\n"
   ],
   "id": "60140d3b2b34b474",
   "outputs": [],
   "execution_count": null
  },
  {
   "metadata": {},
   "cell_type": "markdown",
   "source": "## Saving the Labeled Feature Matrix",
   "id": "5760091f1bf864b"
  },
  {
   "metadata": {},
   "cell_type": "code",
   "source": [
    "labeled_feature_matrix_df.to_csv(\"../data/processed/labeled_feature_matrix.csv\", index=False)\n",
    "\n",
    "print(\"Data merged and labeled successfully.\")\n",
    "print(labeled_feature_matrix_df.shape)"
   ],
   "id": "89c72f3506d3f9a",
   "outputs": [],
   "execution_count": null
  }
 ],
 "metadata": {
  "kernelspec": {
   "display_name": "Python 3",
   "language": "python",
   "name": "python3"
  },
  "language_info": {
   "codemirror_mode": {
    "name": "ipython",
    "version": 2
   },
   "file_extension": ".py",
   "mimetype": "text/x-python",
   "name": "python",
   "nbconvert_exporter": "python",
   "pygments_lexer": "ipython2",
   "version": "2.7.6"
  }
 },
 "nbformat": 4,
 "nbformat_minor": 5
}
