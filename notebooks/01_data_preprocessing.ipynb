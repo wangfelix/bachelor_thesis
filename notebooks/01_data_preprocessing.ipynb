{
 "cells": [
  {
   "metadata": {},
   "cell_type": "markdown",
   "source": "# Preprocessing",
   "id": "8a77807f92f26ee"
  },
  {
   "metadata": {
    "ExecuteTime": {
     "end_time": "2025-02-09T16:19:29.610467Z",
     "start_time": "2025-02-09T16:19:29.608473Z"
    }
   },
   "cell_type": "code",
   "source": [
    "import pandas as pd\n",
    "pd.set_option('display.max_columns', None)  # Display all columns\n",
    "pd.set_option('display.expand_frame_repr', False)  # Prevent wrapping"
   ],
   "id": "fbc121e30a2defb3",
   "outputs": [],
   "execution_count": 28
  },
  {
   "metadata": {
    "ExecuteTime": {
     "end_time": "2025-02-09T16:19:29.620531Z",
     "start_time": "2025-02-09T16:19:29.612025Z"
    }
   },
   "cell_type": "code",
   "source": [
    "feature_file_path = '../data/raw/ecg_results.csv'\n",
    "otree_file_path = '../data/raw/all_apps_wide-2024-03-13.csv'\n",
    "\n",
    "# Read feature file into pd Dataframe.\n",
    "biosignal_feature_df = pd.read_csv(\n",
    "    feature_file_path,\n",
    "    sep=',',\n",
    "    header=0,\n",
    ")\n",
    "\n",
    "# Read experiment data into pd Dataframe.\n",
    "otree_df = pd.read_csv(\n",
    "   otree_file_path,\n",
    "    sep=',',\n",
    "    header=0,\n",
    "     usecols=['participant.code', 'stockmarket.40.player.final_payout'],\n",
    ")\n",
    "\n",
    "print(otree_df.head(5))"
   ],
   "id": "d214f0e63c53c7e2",
   "outputs": [
    {
     "name": "stdout",
     "output_type": "stream",
     "text": [
      "  participant.code  stockmarket.40.player.final_payout\n",
      "0         olkb84nv                               16.75\n",
      "1         90x8j3by                               11.84\n",
      "2         518oj41e                               13.49\n",
      "3         3d8fktvx                               16.17\n",
      "4         7va8p4lw                               23.22\n"
     ]
    }
   ],
   "execution_count": 29
  },
  {
   "metadata": {},
   "cell_type": "markdown",
   "source": [
    "## Biosignal Feature File Preparation\n",
    "1. Drop columns that are entirely empty\n",
    "2. Fill any remaining empty fields with 0"
   ],
   "id": "2b1928ef0050154f"
  },
  {
   "metadata": {
    "ExecuteTime": {
     "end_time": "2025-02-09T16:19:29.632246Z",
     "start_time": "2025-02-09T16:19:29.629716Z"
    }
   },
   "cell_type": "code",
   "source": [
    "# Drop columns that are entirely empty\n",
    "biosignal_feature_df.dropna(axis=1, how='all', inplace=True)\n",
    "\n",
    "# Fill any remaining empty fields with 0\n",
    "biosignal_feature_df.fillna(0, inplace=True)"
   ],
   "id": "390c8f2440f27ba6",
   "outputs": [],
   "execution_count": 30
  },
  {
   "metadata": {},
   "cell_type": "markdown",
   "source": [
    "## OTree File Preparation: Encoding class labels\n",
    "TODO: Right now, the data only includes 1 session "
   ],
   "id": "544062c5aab9ea46"
  },
  {
   "metadata": {
    "ExecuteTime": {
     "end_time": "2025-02-09T16:19:29.646319Z",
     "start_time": "2025-02-09T16:19:29.642953Z"
    }
   },
   "cell_type": "code",
   "source": [
    "# Calculate the 80th percentile of the final payout\n",
    "percentile_50 = otree_df['stockmarket.40.player.final_payout'].quantile(0.50)\n",
    "\n",
    "# Encode the classes\n",
    "otree_df['performance_class'] = otree_df['stockmarket.40.player.final_payout'].apply(lambda x: 1 if x >= percentile_50 else 0)\n",
    "\n",
    "print(otree_df.head(5))"
   ],
   "id": "dc5811f5381e3d75",
   "outputs": [
    {
     "name": "stdout",
     "output_type": "stream",
     "text": [
      "  participant.code  stockmarket.40.player.final_payout  performance_class\n",
      "0         olkb84nv                               16.75                  1\n",
      "1         90x8j3by                               11.84                  0\n",
      "2         518oj41e                               13.49                  0\n",
      "3         3d8fktvx                               16.17                  0\n",
      "4         7va8p4lw                               23.22                  1\n"
     ]
    }
   ],
   "execution_count": 31
  },
  {
   "metadata": {},
   "cell_type": "markdown",
   "source": [
    "## Creating Labeled Feature Matrix\n",
    "1. Merge the DataFrames\n",
    "2. Drop the Baseline Windows, as they have no discriminatory power on trading performance, since no decision making is involved.\n",
    "3. Drop the columns that are not needed for the feature matrix."
   ],
   "id": "690b43d75ee48068"
  },
  {
   "metadata": {
    "ExecuteTime": {
     "end_time": "2025-02-09T16:19:29.650932Z",
     "start_time": "2025-02-09T16:19:29.647471Z"
    }
   },
   "cell_type": "code",
   "source": [
    "# Merge the DataFrames\n",
    "merged_df = pd.merge(biosignal_feature_df, otree_df, left_on='Participant', right_on='participant.code')\n",
    "\n",
    "# Drop the Baseline Windows, as they have no discriminatory power on trading performance, since no decision making is involved.\n",
    "merged_df = merged_df[merged_df['Type'] != 'Baseline']\n",
    "\n",
    "# TODO MOVE TO CONFIG FILE\n",
    "columns_to_drop = ['Session', 'Group', 'Participant', 'Type', 'stockmarket.40.player.final_payout', 'participant.code']\n",
    "\n",
    "# Drop the columns that are not needed for the feature matrix.\n",
    "columns_to_drop = [col for col in columns_to_drop if col in merged_df.columns]\n",
    "labeled_feature_matrix_df = merged_df.drop(columns=columns_to_drop)\n"
   ],
   "id": "60140d3b2b34b474",
   "outputs": [],
   "execution_count": 32
  },
  {
   "metadata": {},
   "cell_type": "markdown",
   "source": "## Saving the Labeled Feature Matrix",
   "id": "5760091f1bf864b"
  },
  {
   "metadata": {
    "ExecuteTime": {
     "end_time": "2025-02-09T16:19:29.656764Z",
     "start_time": "2025-02-09T16:19:29.651623Z"
    }
   },
   "cell_type": "code",
   "source": [
    "labeled_feature_matrix_df.to_csv(\"../data/processed/labeled_feature_matrix.csv\", index=False)\n",
    "\n",
    "print(\"Daten erfolgreich gemerged und gelabelt.\")"
   ],
   "id": "89c72f3506d3f9a",
   "outputs": [
    {
     "name": "stdout",
     "output_type": "stream",
     "text": [
      "Daten erfolgreich gemerged und gelabelt.\n"
     ]
    }
   ],
   "execution_count": 33
  },
  {
   "metadata": {
    "ExecuteTime": {
     "end_time": "2025-02-09T16:19:29.659056Z",
     "start_time": "2025-02-09T16:19:29.657754Z"
    }
   },
   "cell_type": "code",
   "source": "",
   "id": "a71595da18001781",
   "outputs": [],
   "execution_count": 33
  }
 ],
 "metadata": {
  "kernelspec": {
   "display_name": "Python 3",
   "language": "python",
   "name": "python3"
  },
  "language_info": {
   "codemirror_mode": {
    "name": "ipython",
    "version": 2
   },
   "file_extension": ".py",
   "mimetype": "text/x-python",
   "name": "python",
   "nbconvert_exporter": "python",
   "pygments_lexer": "ipython2",
   "version": "2.7.6"
  }
 },
 "nbformat": 4,
 "nbformat_minor": 5
}
