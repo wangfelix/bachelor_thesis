{
 "cells": [
  {
   "metadata": {},
   "cell_type": "markdown",
   "source": "## Hyperparameter Tuning",
   "id": "7a16c0b644adc28a"
  },
  {
   "metadata": {},
   "cell_type": "markdown",
   "source": "### Imports",
   "id": "9f7101da7e4917e8"
  },
  {
   "metadata": {
    "ExecuteTime": {
     "end_time": "2025-03-05T16:44:12.700967Z",
     "start_time": "2025-03-05T16:44:12.698141Z"
    }
   },
   "cell_type": "code",
   "source": [
    "import joblib\n",
    "import datetime\n",
    "import pandas as pd\n",
    "from sklearn.model_selection import GridSearchCV, RandomizedSearchCV, train_test_split\n",
    "from sklearn.pipeline import Pipeline\n",
    "from sklearn.feature_selection import SelectKBest, f_classif, SequentialFeatureSelector\n",
    "from sklearn.linear_model import LogisticRegression\n",
    "from sklearn.neural_network import MLPClassifier\n",
    "from sklearn.svm import SVC\n",
    "from sklearn.ensemble import RandomForestClassifier\n",
    "from sklearn.metrics import roc_auc_score"
   ],
   "id": "486f609b16d5608b",
   "outputs": [],
   "execution_count": 11
  },
  {
   "metadata": {},
   "cell_type": "markdown",
   "source": "## Load the training data",
   "id": "dabb4fb79fa0d226"
  },
  {
   "cell_type": "code",
   "id": "initial_id",
   "metadata": {
    "collapsed": true,
    "ExecuteTime": {
     "end_time": "2025-03-05T16:44:12.708421Z",
     "start_time": "2025-03-05T16:44:12.702243Z"
    }
   },
   "source": [
    "# Load split datasets\n",
    "X_train = joblib.load(\"../data/splits/X_train.pkl\")\n",
    "X_test = joblib.load(\"../data/splits/X_test.pkl\")\n",
    "y_train = joblib.load(\"../data/splits/y_train.pkl\")\n",
    "y_test = joblib.load(\"../data/splits/y_test.pkl\")\n",
    "\n",
    "print(\"Train/test split loaded successfully!\")"
   ],
   "outputs": [
    {
     "name": "stdout",
     "output_type": "stream",
     "text": [
      "Train/test split loaded successfully!\n"
     ]
    }
   ],
   "execution_count": 12
  },
  {
   "metadata": {},
   "cell_type": "markdown",
   "source": "## Models and Search Parameter Grids",
   "id": "5858f30bd1f11f4"
  },
  {
   "metadata": {
    "ExecuteTime": {
     "end_time": "2025-03-05T16:44:12.711965Z",
     "start_time": "2025-03-05T16:44:12.709358Z"
    }
   },
   "cell_type": "code",
   "source": [
    "# ---- DEFINE BASE MODELS ----\n",
    "\n",
    "models = {\n",
    "    \"MLP\": MLPClassifier(max_iter=5000),\n",
    "    #\"RF\": RandomForestClassifier(random_state=42),\n",
    "}\n",
    "\n",
    "# ---- DEFINE HYPERPARAMETER GRIDS ----\n",
    "\n",
    "param_grids_anova = {\n",
    "    \"MLP\": {\n",
    "        \"feature_selection__k\": [2, 3, 4, 5, 6, 7, 8, 9, 10, 11, 12, 13],  # k\n",
    "        \"classifier__hidden_layer_sizes\": [(32, 16, 8), (64, 32, 16), (128, 64, 32)],\n",
    "        \"classifier__learning_rate_init\": [0.001, 0.003, 0.01, 0.03, 0.1],\n",
    "        \"classifier__alpha\": [1e-5, 1e-4, 1e-3, 1e-2, 1e-1] # L2 penalty (regularization term) parameter\n",
    "    }\n",
    "}\n",
    "\n",
    "param_grids_sfs = {\n",
    "    \"MLP\": {\n",
    "        \"feature_selection__n_features_to_select\": [2, 4, 7, 10],  # n_features_to_select\n",
    "        \"classifier__hidden_layer_sizes\": [(32, 16, 8), (64, 32, 16), (128, 64, 32)],\n",
    "        \"classifier__learning_rate_init\": [0.001, 0.003, 0.01, 0.03, 0.1],\n",
    "        \"classifier__alpha\": [1e-5, 1e-4, 1e-3, 1e-2, 1e-1]\n",
    "    }\n",
    "}"
   ],
   "id": "9d0c78f9a19a3e3b",
   "outputs": [],
   "execution_count": 13
  },
  {
   "metadata": {},
   "cell_type": "markdown",
   "source": "## Hyperparameter Tuning",
   "id": "87e5be54e294aad8"
  },
  {
   "metadata": {
    "ExecuteTime": {
     "end_time": "2025-03-05T16:50:00.353963Z",
     "start_time": "2025-03-05T16:44:12.713122Z"
    }
   },
   "cell_type": "code",
   "source": [
    "# ---- HYPERPARAMETER TUNING ----\n",
    "\n",
    "best_models = {}\n",
    "results = []\n",
    "\n",
    "for name, model in models.items():\n",
    "    print(f\"Tuning hyperparameters for {name}...\")\n",
    "\n",
    "    for fs_method in [\"ANOVA\", \"SFS\"]:\n",
    "       # Define Feature Selection\n",
    "        if fs_method == \"ANOVA\":\n",
    "            selector = SelectKBest(score_func=f_classif)\n",
    "            param_grid = param_grids_anova[name]\n",
    "        else:\n",
    "            selector = SequentialFeatureSelector(model)\n",
    "            param_grid = param_grids_sfs[name]\n",
    "\n",
    "        # Create pipeline\n",
    "        pipeline = Pipeline([\n",
    "            (\"feature_selection\", selector),\n",
    "            (\"classifier\", model)\n",
    "        ])\n",
    "       \n",
    "        if fs_method == \"ANOVA\":\n",
    "            search = GridSearchCV(pipeline, param_grid, cv=5, scoring=\"roc_auc\", n_jobs=-1)\n",
    "        else:\n",
    "            search = RandomizedSearchCV(pipeline, param_grid, n_iter=10, cv=5, scoring=\"roc_auc\", n_jobs=-1, random_state=42)  \n",
    "           \n",
    "\n",
    "        search.fit(X_train, y_train)\n",
    "       \n",
    "        # Extract best model\n",
    "        best_model = search.best_estimator_\n",
    "        best_score = search.best_score_\n",
    "        best_params = search.best_params_\n",
    "\n",
    "        selected_features = X_train.columns[best_model.named_steps[\"feature_selection\"].get_support()]\n",
    "        selected_features_str = \", \".join(selected_features)  # Convert to string\n",
    "       \n",
    "        results.append({\n",
    "            \"Model\": name,\n",
    "            \"Feature Selection\": fs_method,\n",
    "            \"ROC AUC Score\": best_score,\n",
    "            \"Selected Features\": selected_features_str,\n",
    "            \"Best Params\": best_params\n",
    "        })\n",
    "\n",
    "        # Store best model\n",
    "        best_models[f\"{name} ({fs_method})\"] = search.best_estimator_\n",
    "\n",
    "        print(f\"Best {name} ({fs_method}) ROC_AUC: {best_score:.4f}\")\n",
    "        print(f\"Best Params: {best_params}\")\n",
    "        print(f\"Selected Features: {selected_features_str}\\n\")\n",
    "\n"
   ],
   "id": "6176d9364edb2baf",
   "outputs": [
    {
     "name": "stdout",
     "output_type": "stream",
     "text": [
      "Tuning hyperparameters for MLP...\n",
      "Best MLP (ANOVA) ROC_AUC: 0.8786\n",
      "Best Params: {'classifier__alpha': 0.001, 'classifier__hidden_layer_sizes': (32, 16, 8), 'classifier__learning_rate_init': 0.01, 'feature_selection__k': 12}\n",
      "Selected Features: HRV_MeanNN, HRV_pNN50, HRV_LFHF, HRV_pNN20, HRV_maxNN, HRV_madNN, EDA_Tonic, SCR_Onsets, HRV_pNN50_norm, HRV_pNN20_norm, HRV_minNN_norm, EDA_Tonic_norm\n",
      "\n",
      "Best MLP (SFS) ROC_AUC: 0.8408\n",
      "Best Params: {'feature_selection__n_features_to_select': 10, 'classifier__learning_rate_init': 0.001, 'classifier__hidden_layer_sizes': (64, 32, 16), 'classifier__alpha': 0.01}\n",
      "Selected Features: HRV_MeanNN, HRV_pNN50, HRV_LFHF, HRV_pNN20, HRV_maxNN, HRV_madNN, EDA_Tonic, SCR_Onsets, HRV_pNN20_norm, EDA_Tonic_norm\n",
      "\n"
     ]
    }
   ],
   "execution_count": 14
  },
  {
   "metadata": {},
   "cell_type": "markdown",
   "source": "## Save Data",
   "id": "551d155fdad6ac38"
  },
  {
   "metadata": {
    "ExecuteTime": {
     "end_time": "2025-03-05T16:50:00.403598Z",
     "start_time": "2025-03-05T16:50:00.359792Z"
    }
   },
   "cell_type": "code",
   "source": [
    "# ---- SAVE BEST MODELS ----\n",
    "\n",
    "for model_name, model in best_models.items():\n",
    "    joblib.dump(model, f\"../models/{model_name.replace(' ', '_').replace('(', '').replace(')', '')}.pkl\")\n",
    "\n",
    "# Convert results to DataFrame and save to CSV\n",
    "results_df = pd.DataFrame(results)\n",
    "\n",
    "filename = f\"../data/results/hyperparameter_tuning_results_{datetime.datetime.now().strftime(\"%d-%m-%Y-%H-%M\")}.csv\"\n",
    "results_df.to_csv(filename, index=False)\n",
    "\n",
    "print(\"Results and best performing models saved for future evaluation.\")"
   ],
   "id": "a963d9985457729c",
   "outputs": [
    {
     "name": "stdout",
     "output_type": "stream",
     "text": [
      "Results and best performing models saved for future evaluation.\n"
     ]
    }
   ],
   "execution_count": 15
  }
 ],
 "metadata": {
  "kernelspec": {
   "display_name": "Python 3",
   "language": "python",
   "name": "python3"
  },
  "language_info": {
   "codemirror_mode": {
    "name": "ipython",
    "version": 2
   },
   "file_extension": ".py",
   "mimetype": "text/x-python",
   "name": "python",
   "nbconvert_exporter": "python",
   "pygments_lexer": "ipython2",
   "version": "2.7.6"
  }
 },
 "nbformat": 4,
 "nbformat_minor": 5
}
