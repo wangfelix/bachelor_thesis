{
 "cells": [
  {
   "metadata": {},
   "cell_type": "markdown",
   "source": "# Model Training",
   "id": "2151ca60356e1352"
  },
  {
   "metadata": {
    "ExecuteTime": {
     "end_time": "2025-03-17T21:48:25.964627Z",
     "start_time": "2025-03-17T21:48:25.961896Z"
    }
   },
   "cell_type": "code",
   "source": [
    "from sklearn.model_selection import cross_val_score, train_test_split\n",
    "import datetime\n",
    "import pandas as pd\n",
    "from sklearn.pipeline import Pipeline\n",
    "from sklearn.feature_selection import SelectKBest, f_classif, SequentialFeatureSelector\n",
    "from sklearn.linear_model import LogisticRegression\n",
    "from sklearn.neural_network import MLPClassifier\n",
    "from sklearn.svm import SVC\n",
    "from sklearn.neighbors import KNeighborsClassifier\n",
    "from sklearn.naive_bayes import GaussianNB\n",
    "from sklearn.ensemble import RandomForestClassifier\n",
    "from sklearn.metrics import roc_auc_score, accuracy_score\n",
    "from sklearn.model_selection import StratifiedKFold\n",
    "import joblib\n",
    "import time\n"
   ],
   "id": "8750086ab101f1aa",
   "outputs": [],
   "execution_count": 51
  },
  {
   "metadata": {
    "ExecuteTime": {
     "end_time": "2025-03-17T21:48:25.992566Z",
     "start_time": "2025-03-17T21:48:25.983053Z"
    }
   },
   "cell_type": "code",
   "source": [
    "# ---- LOAD DATASET ----\n",
    "\n",
    "df = pd.read_csv(\"../data/features/filtered_labeled_feature_matrix.csv\")\n",
    "X = df.drop(columns=[\"performance_class\"])\n",
    "y = df[\"performance_class\"]\n",
    "\n",
    "# ---- Load DATASET ----\n",
    "\n",
    "# Load split\n",
    "X_train = joblib.load(\"../data/splits/X_train_augmented_best.pkl\")\n",
    "X_test = joblib.load(\"../data/splits/X_test.pkl\")\n",
    "y_train = joblib.load(\"../data/splits/y_train_augmented_best.pkl\")\n",
    "y_test = joblib.load(\"../data/splits/y_test.pkl\")\n",
    "\n",
    "print(\"Train/test split saved successfully!\")\n",
    "\n"
   ],
   "id": "cce622b01b1e1549",
   "outputs": [
    {
     "name": "stdout",
     "output_type": "stream",
     "text": [
      "Train/test split saved successfully!\n"
     ]
    }
   ],
   "execution_count": 52
  },
  {
   "metadata": {
    "ExecuteTime": {
     "end_time": "2025-03-17T21:48:37.608369Z",
     "start_time": "2025-03-17T21:48:25.993772Z"
    }
   },
   "cell_type": "code",
   "source": [
    "# ---- DEFINE MODELS ----\n",
    "\n",
    "models = {\n",
    "    \"RF\": RandomForestClassifier(random_state=42),\n",
    "    \"SVM\": SVC(probability=True),\n",
    "    \"MLP2\": MLPClassifier(hidden_layer_sizes=(2,), max_iter=5000, random_state=42),\n",
    "    \"MLP4\": MLPClassifier(hidden_layer_sizes=(4,), max_iter=5000, random_state=42),\n",
    "    \"MLP6\": MLPClassifier(hidden_layer_sizes=(6,), max_iter=5000, random_state=42),\n",
    "    \"MLP8\": MLPClassifier(hidden_layer_sizes=(8,), max_iter=5000, random_state=42),\n",
    "    \"3NN\": KNeighborsClassifier(n_neighbors=3),\n",
    "    \"5NN\": KNeighborsClassifier(n_neighbors=5),\n",
    "    \"10NN\": KNeighborsClassifier(n_neighbors=10),\n",
    "    \"15NN\": KNeighborsClassifier(n_neighbors=15),\n",
    "}\n",
    "\n",
    "\n",
    "# ---- MODEL TRAINING ----\n",
    "\n",
    "# Create a StratifiedKFold object\n",
    "skf = StratifiedKFold(n_splits=10, shuffle=True, random_state=42)\n",
    "\n",
    "cv_results = {}\n",
    "\n",
    "for name, model in models.items():\n",
    "    pipeline = Pipeline([\n",
    "        (\"classifier\", model)\n",
    "    ])\n",
    "\n",
    "    # ---- Measure cross-validation time ----\n",
    "    start_cv = time.time()\n",
    "    # Pass skf as the cv parameter to cross_val_score\n",
    "    scores = cross_val_score(pipeline, X_train, y_train, cv=skf, scoring=\"roc_auc\", n_jobs=-1)\n",
    "    end_cv = time.time()\n",
    "    cv_time = end_cv - start_cv  # total CV time (seconds)\n",
    "    \n",
    "    print(scores)\n",
    "\n",
    "    # ---- Measure final fit time on the full training set ----\n",
    "    start_fit = time.time()\n",
    "    pipeline.fit(X_train, y_train)\n",
    "    end_fit = time.time()\n",
    "    fit_time = end_fit - start_fit  # final pipeline fit time (seconds)\n",
    "\n",
    "\n",
    "    y_train_probs = pipeline.predict_proba(X_train)[:, 1]\n",
    "    train_auc = roc_auc_score(y_train, y_train_probs)\n",
    "    \n",
    "    # ---- Evaluate on test set (ROC AUC) ----\n",
    "    y_test_probs = pipeline.predict_proba(X_test)[:, 1]\n",
    "    test_auc = roc_auc_score(y_test, y_test_probs)\n",
    "    \n",
    "    y_test_pred = pipeline.predict(X_test)\n",
    "    test_accuracy = accuracy_score(y_test, y_test_pred)\n",
    "\n",
    "    # Store results\n",
    "    cv_results[name] = {\n",
    "        \"Model\": name,\n",
    "        \"ROC AUC (Train)\": train_auc,\n",
    "        \"ROC AUC (CV)\": scores.mean(),\n",
    "        \"ROC AUC (Test)\": test_auc,\n",
    "        \"Accuracy (Test)\": test_accuracy,\n",
    "        \"CV Time (s)\": cv_time,\n",
    "        \"Final Fit Time (s)\": fit_time,\n",
    "    }\n",
    "    \n",
    "\n",
    "    # Save the trained pipeline as a .pkl file\n",
    "    timestamp = datetime.datetime.now().strftime(\"%d-%m-%Y-%H-%M\")\n",
    "    model_filename = f\"../models/03_{name}_{timestamp}.pkl\"\n",
    "    joblib.dump(pipeline, model_filename)\n",
    "\n",
    "    print(\n",
    "        f\"{name}: Train ROC_AUC = {train_auc:.4f}, \"\n",
    "        f\"CV ROC_AUC mean = {scores.mean():.4f}, \"\n",
    "        f\"Test ROC_AUC = {test_auc:.4f}, \"\n",
    "        f\"CV Time = {cv_time:.2f}s, Fit Time = {fit_time:.2f}s\"\n",
    "    )"
   ],
   "id": "c39c4ee8f8a7d227",
   "outputs": [
    {
     "name": "stdout",
     "output_type": "stream",
     "text": [
      "[0.9787  0.9749  0.97385 0.9806  0.9959  0.98425 0.95905 0.97615 0.98535\n",
      " 0.97765]\n",
      "RF: Train ROC_AUC = 1.0000, CV ROC_AUC mean = 0.9786, Test ROC_AUC = 0.8402, CV Time = 2.25s, Fit Time = 0.60s\n",
      "[0.972  0.9541 0.9696 0.9663 0.9904 0.9809 0.9607 0.9741 0.9819 0.9737]\n",
      "SVM: Train ROC_AUC = 0.9892, CV ROC_AUC mean = 0.9724, Test ROC_AUC = 0.8459, CV Time = 0.36s, Fit Time = 0.28s\n",
      "[0.7869  0.83285 0.76475 0.7274  0.8215  0.8544  0.81335 0.779   0.8407\n",
      " 0.7719 ]\n",
      "MLP2: Train ROC_AUC = 0.8242, CV ROC_AUC mean = 0.7993, Test ROC_AUC = 0.7623, CV Time = 0.69s, Fit Time = 0.36s\n",
      "[0.8372  0.88705 0.85745 0.86765 0.8893  0.9022  0.8794  0.8717  0.8983\n",
      " 0.8978 ]\n",
      "MLP4: Train ROC_AUC = 0.9156, CV ROC_AUC mean = 0.8788, Test ROC_AUC = 0.7172, CV Time = 1.27s, Fit Time = 0.66s\n",
      "[0.9049 0.924  0.9293 0.9276 0.9691 0.9539 0.9582 0.9288 0.9355 0.9328]\n",
      "MLP6: Train ROC_AUC = 0.9708, CV ROC_AUC mean = 0.9364, Test ROC_AUC = 0.8131, CV Time = 1.31s, Fit Time = 0.84s\n",
      "[0.9218 0.9218 0.9269 0.9506 0.969  0.9807 0.9408 0.926  0.9499 0.9419]\n",
      "MLP8: Train ROC_AUC = 0.9845, CV ROC_AUC mean = 0.9429, Test ROC_AUC = 0.7533, CV Time = 1.51s, Fit Time = 1.08s\n",
      "[0.99685 0.9735  0.98775 0.99335 0.99725 0.9967  0.9888  0.9968  0.9994\n",
      " 0.98825]\n",
      "3NN: Train ROC_AUC = 0.9998, CV ROC_AUC mean = 0.9919, Test ROC_AUC = 0.8529, CV Time = 0.06s, Fit Time = 0.00s\n",
      "[0.99425 0.98105 0.99125 0.99545 0.99715 0.9976  0.9968  0.9987  0.9977\n",
      " 0.9973 ]\n",
      "5NN: Train ROC_AUC = 0.9996, CV ROC_AUC mean = 0.9947, Test ROC_AUC = 0.8525, CV Time = 0.03s, Fit Time = 0.00s\n",
      "[0.9827  0.97515 0.98745 0.99555 0.9904  0.9924  0.9897  0.9956  0.99815\n",
      " 0.9857 ]\n",
      "10NN: Train ROC_AUC = 0.9978, CV ROC_AUC mean = 0.9893, Test ROC_AUC = 0.8352, CV Time = 0.04s, Fit Time = 0.00s\n",
      "[0.975   0.97635 0.9831  0.9884  0.9855  0.98505 0.98185 0.9876  0.99455\n",
      " 0.9737 ]\n",
      "15NN: Train ROC_AUC = 0.9936, CV ROC_AUC mean = 0.9831, Test ROC_AUC = 0.8123, CV Time = 0.04s, Fit Time = 0.00s\n"
     ]
    }
   ],
   "execution_count": 53
  },
  {
   "metadata": {
    "ExecuteTime": {
     "end_time": "2025-03-17T21:48:37.614542Z",
     "start_time": "2025-03-17T21:48:37.609558Z"
    }
   },
   "cell_type": "code",
   "source": [
    "# ---- SAVE RESULTS FOR COMPARISONS ----\n",
    "\n",
    "timestamp = datetime.datetime.now().strftime(\"%d-%m-%Y-%H-%M\")\n",
    "cv_results_df = pd.DataFrame.from_dict(cv_results, orient=\"index\").reset_index(drop=True)\n",
    "cv_results_df = cv_results_df[\n",
    "    [\"Model\", \"ROC AUC (CV)\", \"ROC AUC (Test)\", \"CV Time (s)\", \"Final Fit Time (s)\"]\n",
    "]\n",
    "results_filename = f\"../data/results/03_model_training_no_feature_selection_{timestamp}.csv\"\n",
    "cv_results_df.to_csv(results_filename, index=False)\n",
    "\n",
    "print(f\"Cross-Validation completed. Results saved to {results_filename}.\")"
   ],
   "id": "4d224b476fb0e408",
   "outputs": [
    {
     "name": "stdout",
     "output_type": "stream",
     "text": [
      "Cross-Validation completed. Results saved to ../data/results/03_model_training_no_feature_selection_17-03-2025-22-48.csv.\n"
     ]
    }
   ],
   "execution_count": 54
  }
 ],
 "metadata": {
  "kernelspec": {
   "display_name": "Python 3",
   "language": "python",
   "name": "python3"
  },
  "language_info": {
   "codemirror_mode": {
    "name": "ipython",
    "version": 2
   },
   "file_extension": ".py",
   "mimetype": "text/x-python",
   "name": "python",
   "nbconvert_exporter": "python",
   "pygments_lexer": "ipython2",
   "version": "2.7.6"
  }
 },
 "nbformat": 4,
 "nbformat_minor": 5
}
