{
 "cells": [
  {
   "metadata": {},
   "cell_type": "markdown",
   "source": "# Model Training",
   "id": "2151ca60356e1352"
  },
  {
   "metadata": {
    "ExecuteTime": {
     "end_time": "2025-03-05T00:06:24.534281Z",
     "start_time": "2025-03-05T00:06:24.531840Z"
    }
   },
   "cell_type": "code",
   "source": [
    "from sklearn.model_selection import cross_val_score, train_test_split\n",
    "import pandas as pd\n",
    "from sklearn.pipeline import Pipeline\n",
    "from sklearn.feature_selection import SelectKBest, f_classif, SequentialFeatureSelector\n",
    "from sklearn.linear_model import LogisticRegression\n",
    "from sklearn.neural_network import MLPClassifier\n",
    "from sklearn.svm import SVC\n",
    "from sklearn.neighbors import KNeighborsClassifier\n",
    "from sklearn.naive_bayes import GaussianNB\n",
    "from sklearn.ensemble import RandomForestClassifier\n",
    "from sklearn.metrics import roc_auc_score\n",
    "import joblib"
   ],
   "id": "914bc9d85edd1db9",
   "outputs": [],
   "execution_count": 91
  },
  {
   "metadata": {
    "ExecuteTime": {
     "end_time": "2025-03-05T00:06:24.542717Z",
     "start_time": "2025-03-05T00:06:24.535341Z"
    }
   },
   "cell_type": "code",
   "source": [
    "# ---- LOAD DATASET ----\n",
    "\n",
    "df = pd.read_csv(\"../data/features/filtered_labeled_feature_matrix.csv\")\n",
    "X = df.drop(columns=[\"performance_class\"])\n",
    "y = df[\"performance_class\"]\n",
    "\n",
    "# ---- SPLIT DATASET ----\n",
    "\n",
    "X_train, X_test, y_train, y_test = train_test_split(X, y, test_size=0.2, stratify=y, random_state=42)\n",
    "\n",
    "# Save split datasets for hyperparameter tuning for consistent splits.\n",
    "joblib.dump(X_train, \"../data/splits/X_train.pkl\")\n",
    "joblib.dump(X_test, \"../data/splits/X_test.pkl\")\n",
    "joblib.dump(y_train, \"../data/splits/y_train.pkl\")\n",
    "joblib.dump(y_test, \"../data/splits/y_test.pkl\")\n",
    "\n",
    "print(\"Train/test split saved successfully!\")\n",
    "\n",
    "# ---- DEFINE MODELS ----\n",
    "\n",
    "models = {\n",
    "    #\"Logistic Regression\": LogisticRegression(),\n",
    "    #\"RF\": RandomForestClassifier(n_estimators=100, max_depth=5, min_samples_split=5, min_samples_leaf=4, random_state=42, max_features=\"sqrt\"),\n",
    "    \"MLP\": MLPClassifier(hidden_layer_sizes=(32, 16, 8), solver=\"adam\", activation=\"relu\", max_iter=1000, learning_rate_init=0.01),\n",
    "    #\"SVM\": SVC(probability=True),\n",
    "    #\"kNN\": KNeighborsClassifier(n_neighbors=5),\n",
    "    #\"Naive Bayes\": GaussianNB()\n",
    "}\n"
   ],
   "id": "5ce8c662dc40c5ff",
   "outputs": [
    {
     "name": "stdout",
     "output_type": "stream",
     "text": [
      "Train/test split saved successfully!\n"
     ]
    }
   ],
   "execution_count": 92
  },
  {
   "metadata": {
    "ExecuteTime": {
     "end_time": "2025-03-05T00:06:58.999583Z",
     "start_time": "2025-03-05T00:06:24.546262Z"
    }
   },
   "cell_type": "code",
   "source": [
    "# ---- MODEL TRAINING ----\n",
    "\n",
    "k_default = 5\n",
    "cv_results = {}\n",
    "for name, model in models.items():\n",
    "    for fs_method in [\"ANOVA\", \"SFS\"]:\n",
    "        \n",
    "        selector = None\n",
    "        \n",
    "        if fs_method == \"ANOVA\":\n",
    "            selector = SelectKBest(score_func=f_classif, k=k_default)\n",
    "        elif fs_method == \"SFS\":\n",
    "            selector = SequentialFeatureSelector(model, n_features_to_select=k_default)\n",
    "\n",
    "        pipeline = Pipeline([\n",
    "            (\"feature_selection\", selector),\n",
    "            (\"classifier\", model)\n",
    "        ])\n",
    "\n",
    "        # Perform cross-validation\n",
    "        scores = cross_val_score(pipeline, X_train, y_train, cv=10, scoring=\"roc_auc\", n_jobs=-1)\n",
    "        \n",
    "        # Fit Pipeline on Full Dataset (to check train accuracy)\n",
    "        pipeline.fit(X_train, y_train)\n",
    "        \n",
    "        # ---- Evaluate on Test Set ----\n",
    "        y_test_probs = pipeline.predict_proba(X_test)[:, 1]  # Probabilities for ROC AUC\n",
    "        test_auc = roc_auc_score(y_test, y_test_probs)\n",
    "        \n",
    "        # Selected feature names\n",
    "        feature_names = X_train.columns\n",
    "        selected_feature_indices = []\n",
    "\n",
    "        if fs_method == \"ANOVA\":\n",
    "            selected_feature_indices = selector.get_support(indices=True)\n",
    "        if fs_method == \"SFS\":\n",
    "            selected_feature_indices = selector.get_support(indices=True)\n",
    "            \n",
    "        selected_features = [f\"{feature_names[i]}({i})\" for i in selected_feature_indices]\n",
    "        \n",
    "        cv_results[f\"{name} ({fs_method})\"] = {\n",
    "            \"CV_ROC_AUC\": scores.mean(),\n",
    "            \"Test_ROC_AUC\": test_auc,\n",
    "            \"Features\": selected_features\n",
    "        }\n",
    "\n",
    "        print(f\"{fs_method} Selected Features:\", selected_features)\n",
    "        print(f\"{name} with {fs_method}: CV ROC_AUC = {scores.mean():.4f}, Test ROC_AUC = {test_auc:.4f}\")"
   ],
   "id": "42a1da0c0a268364",
   "outputs": [
    {
     "name": "stdout",
     "output_type": "stream",
     "text": [
      "ANOVA Selected Features: ['HRV_pNN50(1)', 'HRV_pNN20(3)', 'EDA_Tonic(7)', 'HRV_pNN20_norm(10)', 'EDA_Tonic_norm(12)']\n",
      "MLP with ANOVA: CV ROC_AUC = 0.8355, Test ROC_AUC = 0.8369\n",
      "SFS Selected Features: ['HRV_pNN20(3)', 'HRV_minNN(5)', 'EDA_Tonic(7)', 'SCR_Onsets(8)', 'HRV_minNN_norm(11)']\n",
      "MLP with SFS: CV ROC_AUC = 0.7718, Test ROC_AUC = 0.8180\n"
     ]
    }
   ],
   "execution_count": 94
  },
  {
   "metadata": {
    "ExecuteTime": {
     "end_time": "2025-03-05T00:06:59.003731Z",
     "start_time": "2025-03-05T00:06:59.000528Z"
    }
   },
   "cell_type": "code",
   "source": [
    "# ---- SAVE RESULTS FOR COMPARISONS ----\n",
    "\n",
    "cv_results_df = pd.DataFrame.from_dict(cv_results, orient=\"index\").reset_index()\n",
    "cv_results_df.columns = [\"Model\", \"CV_ROC_AUC\", \"Test_ROC_AUC\", \"Features\"]\n",
    "cv_results_df.to_csv(\"../data/results/initial_training_results.csv\", index=False)\n",
    "\n",
    "print(\"Cross-Validation completed. Results saved.\")"
   ],
   "id": "5e97806d3ad48c67",
   "outputs": [
    {
     "name": "stdout",
     "output_type": "stream",
     "text": [
      "Cross-Validation completed. Results saved.\n"
     ]
    }
   ],
   "execution_count": 95
  }
 ],
 "metadata": {
  "kernelspec": {
   "display_name": "Python 3",
   "language": "python",
   "name": "python3"
  },
  "language_info": {
   "codemirror_mode": {
    "name": "ipython",
    "version": 2
   },
   "file_extension": ".py",
   "mimetype": "text/x-python",
   "name": "python",
   "nbconvert_exporter": "python",
   "pygments_lexer": "ipython2",
   "version": "2.7.6"
  }
 },
 "nbformat": 4,
 "nbformat_minor": 5
}
