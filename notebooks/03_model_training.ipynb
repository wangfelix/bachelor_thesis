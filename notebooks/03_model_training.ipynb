{
 "cells": [
  {
   "metadata": {},
   "cell_type": "markdown",
   "source": "# Model Training",
   "id": "2151ca60356e1352"
  },
  {
   "metadata": {
    "ExecuteTime": {
     "end_time": "2025-03-12T00:54:51.517795Z",
     "start_time": "2025-03-12T00:54:51.338759Z"
    }
   },
   "cell_type": "code",
   "source": [
    "from sklearn.model_selection import cross_val_score, train_test_split\n",
    "import datetime\n",
    "import pandas as pd\n",
    "from sklearn.pipeline import Pipeline\n",
    "from sklearn.neural_network import MLPClassifier\n",
    "from sklearn.svm import SVC\n",
    "from sklearn.neighbors import KNeighborsClassifier\n",
    "from sklearn.ensemble import RandomForestClassifier\n",
    "from sklearn.metrics import roc_auc_score\n",
    "from sklearn.model_selection import StratifiedKFold\n",
    "import joblib\n",
    "import time"
   ],
   "id": "914bc9d85edd1db9",
   "outputs": [],
   "execution_count": 3
  },
  {
   "metadata": {},
   "cell_type": "markdown",
   "source": [
    "## Load the feature matrix and split it into training and test sets.\n",
    "Training and test sets are saved, for consistency in hyperparameter tuning."
   ],
   "id": "e6f5adc2c382777"
  },
  {
   "metadata": {
    "ExecuteTime": {
     "end_time": "2025-03-11T00:04:52.845686Z",
     "start_time": "2025-03-11T00:04:52.835140Z"
    }
   },
   "cell_type": "code",
   "source": [
    "# ---- LOAD DATASET ----\n",
    "\n",
    "df = pd.read_csv(\"../data/features/filtered_labeled_feature_matrix.csv\")\n",
    "X = df.drop(columns=[\"performance_class\"])\n",
    "y = df[\"performance_class\"]\n",
    "\n",
    "# ---- SPLIT DATASET ----\n",
    "\n",
    "X_train, X_test, y_train, y_test = train_test_split(X, y, test_size=0.2, stratify=y, random_state=42)\n",
    "\n",
    "# Save split datasets for hyperparameter tuning for consistent splits.\n",
    "joblib.dump(X_train, \"../data/splits/X_train.pkl\")\n",
    "joblib.dump(X_test, \"../data/splits/X_test.pkl\")\n",
    "joblib.dump(y_train, \"../data/splits/y_train.pkl\")\n",
    "joblib.dump(y_test, \"../data/splits/y_test.pkl\")\n",
    "\n",
    "print(\"Train/test split saved successfully!\")\n",
    "\n"
   ],
   "id": "5ce8c662dc40c5ff",
   "outputs": [
    {
     "name": "stdout",
     "output_type": "stream",
     "text": [
      "Train/test split saved successfully!\n"
     ]
    }
   ],
   "execution_count": 10
  },
  {
   "metadata": {},
   "cell_type": "markdown",
   "source": "## Models",
   "id": "12fa440efe162804"
  },
  {
   "metadata": {},
   "cell_type": "code",
   "outputs": [],
   "execution_count": null,
   "source": [
    "models = {\n",
    "    \"RF\": RandomForestClassifier(random_state=42),\n",
    "    \"SVM\": SVC(probability=True),\n",
    "    \"MLP2\": MLPClassifier(hidden_layer_sizes=(2,), max_iter=5000, random_state=42),\n",
    "    \"MLP4\": MLPClassifier(hidden_layer_sizes=(4,), max_iter=5000, random_state=42),\n",
    "    \"MLP6\": MLPClassifier(hidden_layer_sizes=(6,), max_iter=5000, random_state=42),\n",
    "    \"MLP8\": MLPClassifier(hidden_layer_sizes=(8,), max_iter=5000, random_state=42),\n",
    "    \"3NN\": KNeighborsClassifier(n_neighbors=3),\n",
    "    \"5NN\": KNeighborsClassifier(n_neighbors=5),\n",
    "    \"10NN\": KNeighborsClassifier(n_neighbors=10),\n",
    "    \"15NN\": KNeighborsClassifier(n_neighbors=15),\n",
    "}"
   ],
   "id": "cbf151af9e8ebcd6"
  },
  {
   "metadata": {},
   "cell_type": "markdown",
   "source": [
    "## Initial Model training and evaluation.\n",
    "Training is done using a stratified 10-fold cross-validation."
   ],
   "id": "b52e0da0b5d1d06d"
  },
  {
   "metadata": {
    "ExecuteTime": {
     "end_time": "2025-03-12T00:54:53.769952Z",
     "start_time": "2025-03-12T00:54:53.744775Z"
    }
   },
   "cell_type": "code",
   "source": [
    "# Create a StratifiedKFold object\n",
    "skf = StratifiedKFold(n_splits=10, shuffle=True, random_state=42)\n",
    "\n",
    "cv_results = {}\n",
    "for name, model in models.items():\n",
    "    pipeline = Pipeline([\n",
    "        (\"classifier\", model)\n",
    "    ])\n",
    "\n",
    "    # ---- MEASURE TRAINING TIME ----\n",
    "    \n",
    "    start_cv = time.time()\n",
    "    scores = cross_val_score(pipeline, X_train, y_train, cv=skf, scoring=\"roc_auc\", n_jobs=-1)\n",
    "    end_cv = time.time()\n",
    "    cv_time = end_cv - start_cv\n",
    "    print(scores)\n",
    "\n",
    "    start_fit = time.time()\n",
    "    pipeline.fit(X_train, y_train)\n",
    "    end_fit = time.time()\n",
    "    fit_time = end_fit - start_fit\n",
    "\n",
    "    y_train_probs = pipeline.predict_proba(X_train)[:, 1]\n",
    "    train_auc = roc_auc_score(y_train, y_train_probs)\n",
    "    \n",
    "    # ---- EVALUATE MODEL ----\n",
    "    \n",
    "    y_test_probs = pipeline.predict_proba(X_test)[:, 1]\n",
    "    test_auc = roc_auc_score(y_test, y_test_probs)\n",
    "\n",
    "    # ---- STORE RESULTS ----\n",
    "    \n",
    "    cv_results[name] = {\n",
    "        \"Model\": name,\n",
    "        \"ROC AUC (Train)\": train_auc,\n",
    "        \"ROC AUC (Test)\": test_auc,\n",
    "        \"CV Time (s)\": cv_time,\n",
    "        \"Final Fit Time (s)\": fit_time,\n",
    "    }\n",
    "\n",
    "    # ---- SAVE MODELS AS PKL FILE ----\n",
    "    \n",
    "    timestamp = datetime.datetime.now().strftime(\"%d-%m-%Y-%H-%M\")\n",
    "    model_filename = f\"../models/03_{name}_{timestamp}.pkl\"\n",
    "    joblib.dump(pipeline, model_filename)\n",
    "\n",
    "    print(\n",
    "        f\"{name}: Train ROC_AUC = {train_auc:.4f}, \"\n",
    "        f\"CV ROC_AUC mean = {scores.mean():.4f}, \"\n",
    "        f\"Test ROC_AUC = {test_auc:.4f}, \"\n",
    "        f\"CV Time = {cv_time:.2f}s, Fit Time = {fit_time:.2f}s\"\n",
    "    )"
   ],
   "id": "42a1da0c0a268364",
   "outputs": [
    {
     "ename": "NameError",
     "evalue": "name 'X_train' is not defined",
     "output_type": "error",
     "traceback": [
      "\u001B[0;31m---------------------------------------------------------------------------\u001B[0m",
      "\u001B[0;31mNameError\u001B[0m                                 Traceback (most recent call last)",
      "Cell \u001B[0;32mIn[4], line 32\u001B[0m\n\u001B[1;32m     30\u001B[0m start_cv \u001B[38;5;241m=\u001B[39m time\u001B[38;5;241m.\u001B[39mtime()\n\u001B[1;32m     31\u001B[0m \u001B[38;5;66;03m# Pass skf as the cv parameter to cross_val_score\u001B[39;00m\n\u001B[0;32m---> 32\u001B[0m scores \u001B[38;5;241m=\u001B[39m cross_val_score(pipeline, X_train, y_train, cv\u001B[38;5;241m=\u001B[39mskf, scoring\u001B[38;5;241m=\u001B[39m\u001B[38;5;124m\"\u001B[39m\u001B[38;5;124mroc_auc\u001B[39m\u001B[38;5;124m\"\u001B[39m, n_jobs\u001B[38;5;241m=\u001B[39m\u001B[38;5;241m-\u001B[39m\u001B[38;5;241m1\u001B[39m)\n\u001B[1;32m     33\u001B[0m end_cv \u001B[38;5;241m=\u001B[39m time\u001B[38;5;241m.\u001B[39mtime()\n\u001B[1;32m     34\u001B[0m cv_time \u001B[38;5;241m=\u001B[39m end_cv \u001B[38;5;241m-\u001B[39m start_cv  \u001B[38;5;66;03m# total CV time (seconds)\u001B[39;00m\n",
      "\u001B[0;31mNameError\u001B[0m: name 'X_train' is not defined"
     ]
    }
   ],
   "execution_count": 4
  },
  {
   "metadata": {},
   "cell_type": "markdown",
   "source": "## Save the results for comparisons.",
   "id": "fd7e0e23ad0f07ed"
  },
  {
   "metadata": {
    "ExecuteTime": {
     "end_time": "2025-03-11T00:04:56.758357Z",
     "start_time": "2025-03-11T00:04:56.754554Z"
    }
   },
   "cell_type": "code",
   "source": [
    "timestamp = datetime.datetime.now().strftime(\"%d-%m-%Y-%H-%M\")\n",
    "cv_results_df = pd.DataFrame.from_dict(cv_results, orient=\"index\").reset_index(drop=True)\n",
    "cv_results_df = cv_results_df[\n",
    "    [\"Model\", \"ROC AUC (CV)\", \"ROC AUC (Test)\", \"CV Time (s)\", \"Final Fit Time (s)\"]\n",
    "]\n",
    "results_filename = f\"../data/results/03_model_training_no_feature_selection_{timestamp}.csv\"\n",
    "cv_results_df.to_csv(results_filename, index=False)\n",
    "\n",
    "print(f\"Cross-Validation completed. Results saved to {results_filename}.\")"
   ],
   "id": "5e97806d3ad48c67",
   "outputs": [
    {
     "name": "stdout",
     "output_type": "stream",
     "text": [
      "Cross-Validation completed. Results saved to ../data/results/03_model_training_no_feature_selection_11-03-2025-01-04.csv.\n"
     ]
    }
   ],
   "execution_count": 12
  }
 ],
 "metadata": {
  "kernelspec": {
   "display_name": "Python 3",
   "language": "python",
   "name": "python3"
  },
  "language_info": {
   "codemirror_mode": {
    "name": "ipython",
    "version": 2
   },
   "file_extension": ".py",
   "mimetype": "text/x-python",
   "name": "python",
   "nbconvert_exporter": "python",
   "pygments_lexer": "ipython2",
   "version": "2.7.6"
  }
 },
 "nbformat": 4,
 "nbformat_minor": 5
}
