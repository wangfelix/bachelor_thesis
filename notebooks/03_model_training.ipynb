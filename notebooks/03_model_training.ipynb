{
 "cells": [
  {
   "metadata": {},
   "cell_type": "markdown",
   "source": "# Model Training",
   "id": "2151ca60356e1352"
  },
  {
   "metadata": {
    "ExecuteTime": {
     "end_time": "2025-03-04T17:08:02.622253Z",
     "start_time": "2025-03-04T17:08:02.618735Z"
    }
   },
   "cell_type": "code",
   "source": [
    "from sklearn.model_selection import cross_val_score, train_test_split\n",
    "import pandas as pd\n",
    "from sklearn.pipeline import Pipeline\n",
    "from sklearn.feature_selection import SelectKBest, f_classif, SequentialFeatureSelector\n",
    "from sklearn.linear_model import LogisticRegression\n",
    "from sklearn.neural_network import MLPClassifier\n",
    "from sklearn.svm import SVC\n",
    "from sklearn.neighbors import KNeighborsClassifier\n",
    "from sklearn.naive_bayes import GaussianNB\n",
    "from sklearn.ensemble import RandomForestClassifier\n",
    "from sklearn.metrics import roc_auc_score"
   ],
   "id": "914bc9d85edd1db9",
   "outputs": [],
   "execution_count": 57
  },
  {
   "metadata": {
    "ExecuteTime": {
     "end_time": "2025-03-04T17:08:02.630700Z",
     "start_time": "2025-03-04T17:08:02.623735Z"
    }
   },
   "cell_type": "code",
   "source": [
    "# ---- LOAD DATASET ----\n",
    "\n",
    "df = pd.read_csv(\"../data/features/filtered_labeled_feature_matrix.csv\")\n",
    "X = df.drop(columns=[\"performance_class\"])\n",
    "y = df[\"performance_class\"]\n",
    "\n",
    "# ---- SPLIT DATASET ----\n",
    "X_train, X_test, y_train, y_test = train_test_split(X, y, test_size=0.2, stratify=y, random_state=42)\n",
    "\n",
    "# ---- DEFINE MODELS ----\n",
    "\n",
    "models = {\n",
    "    #\"Logistic Regression\": LogisticRegression(),\n",
    "    #\"RF\": RandomForestClassifier(n_estimators=100, max_depth=5, min_samples_split=5, min_samples_leaf=4, random_state=42, max_features=\"sqrt\"),\n",
    "    \"MLP\": MLPClassifier(hidden_layer_sizes=(32, 16, 8), solver=\"adam\", activation=\"relu\", max_iter=1000, learning_rate_init=0.01),\n",
    "    #\"SVM\": SVC(probability=True),\n",
    "    #\"kNN\": KNeighborsClassifier(n_neighbors=5),\n",
    "    #\"Naive Bayes\": GaussianNB()\n",
    "}\n"
   ],
   "id": "5ce8c662dc40c5ff",
   "outputs": [],
   "execution_count": 58
  },
  {
   "metadata": {
    "ExecuteTime": {
     "end_time": "2025-03-04T17:08:02.633045Z",
     "start_time": "2025-03-04T17:08:02.631391Z"
    }
   },
   "cell_type": "code",
   "source": [
    "# ---- FEATURE SELECTION METHODS ----\n",
    "\n",
    "k_default = 5"
   ],
   "id": "4bbc9031fa4a513a",
   "outputs": [],
   "execution_count": 59
  },
  {
   "metadata": {
    "ExecuteTime": {
     "end_time": "2025-03-04T17:08:37.974748Z",
     "start_time": "2025-03-04T17:08:02.634580Z"
    }
   },
   "cell_type": "code",
   "source": [
    "# ---- MODEL TRAINING ----\n",
    "\n",
    "cv_results = {}\n",
    "for name, model in models.items():\n",
    "\n",
    "    for fs_method in [\"ANOVA\", \"SFS\"]:\n",
    "        \n",
    "        selector = None\n",
    "        \n",
    "        if fs_method == \"ANOVA\":\n",
    "            selector = SelectKBest(score_func=f_classif, k=k_default)\n",
    "        elif fs_method == \"SFS\":\n",
    "            selector = SequentialFeatureSelector(model, n_features_to_select=k_default)\n",
    "\n",
    "\n",
    "        pipeline = Pipeline([\n",
    "            (\"feature_selection\", selector),\n",
    "            (\"classifier\", model)\n",
    "        ])\n",
    "\n",
    "\n",
    "        # Perform cross-validation\n",
    "        scores = cross_val_score(pipeline, X_train, y_train, cv=10, scoring=\"roc_auc\", n_jobs=-1)\n",
    "        cv_results[f\"{name} ({fs_method})\"] = scores.mean()\n",
    "        \n",
    "         # Fit Pipeline on Full Dataset (to check train accuracy)\n",
    "        pipeline.fit(X_train, y_train)\n",
    "        # ---- Evaluate on Test Set ----\n",
    "        y_test_probs = pipeline.predict_proba(X_test)[:, 1]  # Probabilities for ROC AUC\n",
    "        test_auc = roc_auc_score(y_test, y_test_probs)\n",
    "        \n",
    "        if fs_method == \"ANOVA\":\n",
    "            print(\"ANOVA Selected Features:\", selector.get_support(indices=True))\n",
    "        if fs_method == \"SFS\":\n",
    "            print(\"SFS Selected Features:\", selector.get_support(indices=True))\n",
    "\n",
    "        print(f\"{name} with {fs_method}: CV ROC_AUC = {scores.mean():.4f}, Test ROC_AUC = {test_auc:.4f}\")"
   ],
   "id": "42a1da0c0a268364",
   "outputs": [
    {
     "name": "stdout",
     "output_type": "stream",
     "text": [
      "ANOVA Selected Features: [ 1  3  7 10 12]\n",
      "MLP with ANOVA: CV ROC_AUC = 0.8662, Test ROC_AUC = 0.8123\n",
      "SFS Selected Features: [ 0  1  7  9 12]\n",
      "MLP with SFS: CV ROC_AUC = 0.8001, Test ROC_AUC = 0.8115\n"
     ]
    }
   ],
   "execution_count": 60
  },
  {
   "metadata": {
    "ExecuteTime": {
     "end_time": "2025-03-04T17:08:37.978959Z",
     "start_time": "2025-03-04T17:08:37.975776Z"
    }
   },
   "cell_type": "code",
   "source": [
    "# ---- SAVE RESULTS FOR COMPARISONS ----\n",
    "\n",
    "cv_results_df = pd.DataFrame(cv_results.items(), columns=[\"Model\", \"ROC_AUC\"])\n",
    "cv_results_df.to_csv(\"../data/results/cv_results.csv\", index=False)\n",
    "\n",
    "print(\"Cross-Validation completed. Results saved.\")"
   ],
   "id": "5e97806d3ad48c67",
   "outputs": [
    {
     "name": "stdout",
     "output_type": "stream",
     "text": [
      "Cross-Validation completed. Results saved.\n"
     ]
    }
   ],
   "execution_count": 61
  }
 ],
 "metadata": {
  "kernelspec": {
   "display_name": "Python 3",
   "language": "python",
   "name": "python3"
  },
  "language_info": {
   "codemirror_mode": {
    "name": "ipython",
    "version": 2
   },
   "file_extension": ".py",
   "mimetype": "text/x-python",
   "name": "python",
   "nbconvert_exporter": "python",
   "pygments_lexer": "ipython2",
   "version": "2.7.6"
  }
 },
 "nbformat": 4,
 "nbformat_minor": 5
}
