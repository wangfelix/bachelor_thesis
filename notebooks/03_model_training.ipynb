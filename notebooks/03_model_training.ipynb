{
 "cells": [
  {
   "metadata": {},
   "cell_type": "markdown",
   "source": "# Model Training",
   "id": "2151ca60356e1352"
  },
  {
   "metadata": {
    "ExecuteTime": {
     "end_time": "2025-02-10T13:18:21.896374Z",
     "start_time": "2025-02-10T13:18:21.894057Z"
    }
   },
   "cell_type": "code",
   "source": [
    "from sklearn.model_selection import cross_val_score\n",
    "import pandas as pd\n",
    "from sklearn.pipeline import Pipeline\n",
    "from sklearn.feature_selection import SelectKBest, f_classif, SequentialFeatureSelector\n",
    "from sklearn.linear_model import LogisticRegression\n",
    "from sklearn.neural_network import MLPClassifier\n",
    "from sklearn.svm import SVC\n",
    "from sklearn.neighbors import KNeighborsClassifier\n",
    "from sklearn.naive_bayes import GaussianNB\n",
    "from sklearn.ensemble import RandomForestClassifier"
   ],
   "id": "914bc9d85edd1db9",
   "outputs": [],
   "execution_count": 89
  },
  {
   "metadata": {
    "ExecuteTime": {
     "end_time": "2025-02-10T13:18:21.901698Z",
     "start_time": "2025-02-10T13:18:21.897619Z"
    }
   },
   "cell_type": "code",
   "source": [
    "# ---- LOAD DATASET ----\n",
    "\n",
    "df = pd.read_csv(\"../data/features/filtered_labeled_feature_matrix.csv\")\n",
    "X = df.drop(columns=[\"performance_class\"])\n",
    "y = df[\"performance_class\"]\n",
    "\n",
    "# ---- DEFINE MODELS ----\n",
    "\n",
    "models = {\n",
    "    \"Logistic Regression\": LogisticRegression(),\n",
    "    \"MLP\": MLPClassifier(max_iter=1000),\n",
    "    \"SVM\": SVC(probability=True),\n",
    "    \"kNN\": KNeighborsClassifier(n_neighbors=5),\n",
    "    \"Naive Bayes\": GaussianNB()\n",
    "}\n"
   ],
   "id": "5ce8c662dc40c5ff",
   "outputs": [],
   "execution_count": 90
  },
  {
   "metadata": {
    "ExecuteTime": {
     "end_time": "2025-02-10T13:18:21.904579Z",
     "start_time": "2025-02-10T13:18:21.902422Z"
    }
   },
   "cell_type": "code",
   "source": [
    "# ---- FEATURE SELECTION METHODS ----\n",
    "\n",
    "k_default = 5\n",
    "anova_selector = SelectKBest(score_func=f_classif, k=k_default)\n",
    "sfs_selector = SequentialFeatureSelector(RandomForestClassifier(), n_features_to_select=k_default)"
   ],
   "id": "4bbc9031fa4a513a",
   "outputs": [],
   "execution_count": 91
  },
  {
   "metadata": {
    "ExecuteTime": {
     "end_time": "2025-02-10T13:34:01.257262Z",
     "start_time": "2025-02-10T13:18:21.905905Z"
    }
   },
   "cell_type": "code",
   "source": [
    "# ---- MODEL TRAINING ----\n",
    "\n",
    "cv_results = {}\n",
    "for name, model in models.items():\n",
    "\n",
    "    for fs_method, selector in [(\"ANOVA\", anova_selector), (\"SFS\", sfs_selector)]:\n",
    "        pipeline = Pipeline([\n",
    "            (\"feature_selection\", selector),\n",
    "            (\"classifier\", model)\n",
    "        ])\n",
    "\n",
    "\n",
    "        # Perform cross-validation\n",
    "        scores = cross_val_score(pipeline, X, y, cv=10, scoring=\"accuracy\")\n",
    "        cv_results[f\"{name} ({fs_method})\"] = scores.mean()\n",
    "\n",
    "        print(f\"{name} with {fs_method}: Accuracy = {scores.mean():.4f}\")"
   ],
   "id": "42a1da0c0a268364",
   "outputs": [
    {
     "name": "stdout",
     "output_type": "stream",
     "text": [
      "Logistic Regression with ANOVA: Accuracy = 0.8000\n",
      "Logistic Regression with SFS: Accuracy = 0.7500\n",
      "MLP with ANOVA: Accuracy = 0.9333\n",
      "MLP with SFS: Accuracy = 0.9667\n",
      "SVM with ANOVA: Accuracy = 0.8750\n",
      "SVM with SFS: Accuracy = 0.9417\n",
      "kNN with ANOVA: Accuracy = 0.8750\n",
      "kNN with SFS: Accuracy = 0.9417\n",
      "Naive Bayes with ANOVA: Accuracy = 0.7917\n",
      "Naive Bayes with SFS: Accuracy = 0.8083\n"
     ]
    }
   ],
   "execution_count": 92
  },
  {
   "metadata": {
    "ExecuteTime": {
     "end_time": "2025-02-10T13:34:01.262003Z",
     "start_time": "2025-02-10T13:34:01.258082Z"
    }
   },
   "cell_type": "code",
   "source": [
    "# ---- SAVE RESULTS FOR COMPARISONS ----\n",
    "\n",
    "cv_results_df = pd.DataFrame(cv_results.items(), columns=[\"Model\", \"Accuracy\"])\n",
    "cv_results_df.to_csv(\"../data/results/cv_results.csv\", index=False)\n",
    "\n",
    "print(\"Cross-Validation completed. Results saved.\")"
   ],
   "id": "5e97806d3ad48c67",
   "outputs": [
    {
     "name": "stdout",
     "output_type": "stream",
     "text": [
      "Cross-Validation completed. Results saved.\n"
     ]
    }
   ],
   "execution_count": 93
  }
 ],
 "metadata": {
  "kernelspec": {
   "display_name": "Python 3",
   "language": "python",
   "name": "python3"
  },
  "language_info": {
   "codemirror_mode": {
    "name": "ipython",
    "version": 2
   },
   "file_extension": ".py",
   "mimetype": "text/x-python",
   "name": "python",
   "nbconvert_exporter": "python",
   "pygments_lexer": "ipython2",
   "version": "2.7.6"
  }
 },
 "nbformat": 4,
 "nbformat_minor": 5
}
